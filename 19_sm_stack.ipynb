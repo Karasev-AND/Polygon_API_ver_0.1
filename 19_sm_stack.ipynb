{
  "nbformat": 4,
  "nbformat_minor": 0,
  "metadata": {
    "colab": {
      "provenance": []
    },
    "kernelspec": {
      "name": "python3",
      "display_name": "Python 3"
    },
    "language_info": {
      "name": "python"
    }
  },
  "cells": [
    {
      "cell_type": "markdown",
      "source": [
        "# Семинар 19 Структуры данных: стек"
      ],
      "metadata": {
        "id": "JQLfNCj_iggo"
      }
    },
    {
      "cell_type": "markdown",
      "source": [
        "Задачу решить двумя способами:\n",
        "\n",
        "1. Реализовать класс стек через использование списка:\n",
        "   * Создать класс `Stack` с методами:\n",
        "     - `push(item)`: добавляет элемент `item` в верхушку стека;\n",
        "     - `pop()`: удаляет и возвращает элемент из верхушки стека;\n",
        "     - `peek()`: возвращает элемент из верхушки стека без его удаления;\n",
        "     - `is_empty()`: проверяет, пуст ли стек;\n",
        "     - `size()`: возвращает текущий размер стека.\n",
        "\n",
        "2. Реализовать класс стек через связный список:\n",
        "   * Создать класс `Node` для представления узла связного списка с двумя атрибутами: `data` (значение узла) и `next` (ссылка на следующий узел).\n",
        "\n",
        "   * Создать класс `Stack` с методами:\n",
        "     - `push(item)`: добавляет элемент `item` в верхушку стека;\n",
        "     - `pop()`: удаляет и возвращает элемент из верхушки стека;\n",
        "     - `peek()`: возвращает элемент из верхушки стека без его удаления;\n",
        "     - `is_empty()`: проверяет, пуст ли стек;\n",
        "     - `size()`: возвращает текущий размер стека/\n",
        "\n",
        "Оба способа реализации должны обеспечивать функциональность стека: добавление элементов в верхушку, удаление элементов из верхушки, получение элемента из верхушки без его удаления, проверку на пустоту и получение текущего размера стека."
      ],
      "metadata": {
        "id": "fAHsgG-Iwa2A"
      }
    },
    {
      "cell_type": "code",
      "source": [
        "class EmptyStackException(Exception):\n",
        "    pass\n",
        "\n",
        "class Node_Stack:\n",
        "    class Node:\n",
        "        def __init__(self, value, nextNode):\n",
        "            self.value = value\n",
        "            self.nextNode = nextNode\n",
        "\n",
        "    def __init__(self):\n",
        "        self.top = None\n",
        "\n",
        "    def isEmpty(self):\n",
        "        return self.top is None\n",
        "\n",
        "    def push(self, value):\n",
        "        self.top = Stack.Node(value, self.top)\n",
        "\n",
        "    def pop(self):\n",
        "        if self.isEmpty():\n",
        "            raise EmptyStackException\n",
        "        val = self.top.value\n",
        "        self.top = self.top.nextNode\n",
        "        return val\n",
        "\n",
        "\n",
        "\n",
        "    s = Stack()\n",
        "    s.push(1)\n",
        "    s.push(2)\n",
        "    s.push(3)\n",
        "\n",
        "    while not s.isEmpty():\n",
        "        print s.pop()\n"
      ],
      "metadata": {
        "id": "zu11uWP6qPL2"
      },
      "execution_count": null,
      "outputs": []
    },
    {
      "cell_type": "code",
      "source": [
        "class Stack:\n",
        "     def __init__(self):\n",
        "         self.items = []\n",
        "\n",
        "     def isEmpty(self):\n",
        "         return self.items == []\n",
        "\n",
        "     def push(self, item):\n",
        "         self.items.append(item)\n",
        "\n",
        "     def pop(self):\n",
        "         return self.items.pop()\n",
        "\n",
        "     def peek(self):\n",
        "         return self.items[-1]\n",
        "\n",
        "     def size(self):\n",
        "         return len(self.items)\n"
      ],
      "metadata": {
        "id": "BtOAjxrVrrXz"
      },
      "execution_count": 4,
      "outputs": []
    },
    {
      "cell_type": "code",
      "source": [],
      "metadata": {
        "id": "29vKtfL8sBkT"
      },
      "execution_count": null,
      "outputs": []
    },
    {
      "cell_type": "markdown",
      "source": [
        "1. Дан стек. Необходимо перевернуть его содержимое так, чтобы верхний элемент стал нижним, а нижний — верхним."
      ],
      "metadata": {
        "id": "-Hbnwm81vlJo"
      }
    },
    {
      "cell_type": "code",
      "source": [
        "stack = Stack()\n",
        "\n",
        "for i in range(20):\n",
        "  stack.push(i)\n",
        "stack.items\n"
      ],
      "metadata": {
        "id": "W5-3Nm4hoqZg",
        "outputId": "734693e0-c195-4a82-f38f-fe7a1f6357d9",
        "colab": {
          "base_uri": "https://localhost:8080/"
        }
      },
      "execution_count": 6,
      "outputs": [
        {
          "output_type": "execute_result",
          "data": {
            "text/plain": [
              "[0, 1, 2, 3, 4, 5, 6, 7, 8, 9, 10, 11, 12, 13, 14, 15, 16, 17, 18, 19]"
            ]
          },
          "metadata": {},
          "execution_count": 6
        }
      ]
    },
    {
      "cell_type": "code",
      "source": [
        "for i in range(stack.size()):\n",
        ""
      ],
      "metadata": {
        "id": "msttJ16bpdSl"
      },
      "execution_count": null,
      "outputs": []
    },
    {
      "cell_type": "markdown",
      "source": [
        "2. Дан стек. Необходимо удалить из него все элементы, которые не являются простыми числами."
      ],
      "metadata": {
        "id": "gadb9MTQvmFw"
      }
    },
    {
      "cell_type": "markdown",
      "source": [
        "3. Дан стек. Необходимо отсортировать его содержимое по возрастанию или убыванию, в зависимости от переданного параметра (`False` — по возрастанию, `True` — по убыванию)."
      ],
      "metadata": {
        "id": "GaZOxwo1vpue"
      }
    },
    {
      "cell_type": "markdown",
      "source": [
        "4. Дан стек. Необходимо проверить, есть ли в нем повторяющиеся элементы. Вывести повторяющиеся элементы, если они есть."
      ],
      "metadata": {
        "id": "NlTV5vBpvuPy"
      }
    },
    {
      "cell_type": "markdown",
      "source": [
        "5. Дан стек. Необходимо найти максимальный или минимальный элемент в нем, в зависимости от переданного параметра (`True` — максимальный, `False` — минимальный)."
      ],
      "metadata": {
        "id": "cv_foLSnvyoc"
      }
    },
    {
      "cell_type": "markdown",
      "source": [
        "6. Дан стек и два элемента $A$ и $B$. Необходимо удалить из стека все элементы, которые находятся между $A$ и $B$ (включая сами $A$ и $B$)."
      ],
      "metadata": {
        "id": "my7x7RSHv1SY"
      }
    },
    {
      "cell_type": "markdown",
      "source": [
        "7. Дан стек. Необходимо разделить его на два так, чтобы в первом были элементы с четными индексами, а во втором — с нечетными."
      ],
      "metadata": {
        "id": "jB3x0j7Lv4jn"
      }
    },
    {
      "cell_type": "markdown",
      "source": [
        "8. Дан стек. Необходимо проверить, является ли его содержимое палиндромом (то есть читается одинаково как слева направо, так и справа налево)."
      ],
      "metadata": {
        "id": "qt-EN8Kov8xQ"
      }
    },
    {
      "cell_type": "markdown",
      "source": [
        "9. Дан стек. Необходимо удалить из него все отрицательные элементы."
      ],
      "metadata": {
        "id": "QYEXbH_ewEh2"
      }
    },
    {
      "cell_type": "markdown",
      "source": [
        "10. Дан стек. Необходимо проверить, является ли его содержимое последовательностью арифметической прогрессии."
      ],
      "metadata": {
        "id": "ivGN0girwH6S"
      }
    },
    {
      "cell_type": "markdown",
      "source": [
        "11. Дан стек. Необходимо найти среднее арифметическое всех его элементов."
      ],
      "metadata": {
        "id": "KeCUir8awK1T"
      }
    },
    {
      "cell_type": "markdown",
      "source": [
        "12. Дан стек и значение $A$. Необходимо удалить из стека все элементы, которые больше $A$."
      ],
      "metadata": {
        "id": "fKxjHk5ZwNQ-"
      }
    },
    {
      "cell_type": "markdown",
      "source": [
        "13. Дан стек и число $k$. Необходимо найти $k$-й по счету элемент в стеке."
      ],
      "metadata": {
        "id": "MNtqYus3wPTO"
      }
    },
    {
      "cell_type": "markdown",
      "source": [
        "14. Дан стек. Необходимо проверить, является ли его содержимое последовательностью геометрической прогрессии."
      ],
      "metadata": {
        "id": "c3JdfsGywR_o"
      }
    },
    {
      "cell_type": "markdown",
      "source": [
        "15. Дан стек и число $N$, необходимо удалить из стека все элементы, которые кратны $N$."
      ],
      "metadata": {
        "id": "i-mmoANewVqQ"
      }
    }
  ]
}